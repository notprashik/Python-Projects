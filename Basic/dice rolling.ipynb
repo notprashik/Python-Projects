{
 "cells": [
  {
   "cell_type": "code",
   "execution_count": 1,
   "id": "2b42a423",
   "metadata": {},
   "outputs": [
    {
     "name": "stdout",
     "output_type": "stream",
     "text": [
      "Rolling the dices...\n",
      "The value is...\n",
      "6\n",
      "Roll the dices again?yes\n",
      "Rolling the dices...\n",
      "The value is...\n",
      "2\n",
      "Roll the dices again?yes\n",
      "Rolling the dices...\n",
      "The value is...\n",
      "4\n",
      "Roll the dices again?no\n"
     ]
    }
   ],
   "source": [
    "import random\n",
    "min = 1\n",
    "max = 6\n",
    "roll_again = \"yes\"\n",
    "\n",
    "while roll_again == \"yes\" or roll_again == \"y\":\n",
    "    print (\"Rolling the dices...\")\n",
    "    print (\"The value is...\")\n",
    "    print (random.randint(min, max))\n",
    "    \n",
    "    roll_again = input(str(\"Roll the dices again?\"))\n"
   ]
  },
  {
   "cell_type": "code",
   "execution_count": null,
   "id": "3b61d4b3",
   "metadata": {},
   "outputs": [],
   "source": []
  }
 ],
 "metadata": {
  "kernelspec": {
   "display_name": "Python 3",
   "language": "python",
   "name": "python3"
  },
  "language_info": {
   "codemirror_mode": {
    "name": "ipython",
    "version": 3
   },
   "file_extension": ".py",
   "mimetype": "text/x-python",
   "name": "python",
   "nbconvert_exporter": "python",
   "pygments_lexer": "ipython3",
   "version": "3.8.8"
  }
 },
 "nbformat": 4,
 "nbformat_minor": 5
}
