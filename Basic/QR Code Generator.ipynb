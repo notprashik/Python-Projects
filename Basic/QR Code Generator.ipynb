{
 "cells": [
  {
   "cell_type": "code",
   "execution_count": 3,
   "id": "4e2663d4",
   "metadata": {},
   "outputs": [
    {
     "name": "stdout",
     "output_type": "stream",
     "text": [
      "Collecting qrcode\n",
      "  Downloading qrcode-7.3.tar.gz (43 kB)\n",
      "Requirement already satisfied: colorama in c:\\users\\prashik\\anaconda3\\lib\\site-packages (from qrcode) (0.4.4)\n",
      "Building wheels for collected packages: qrcode\n",
      "  Building wheel for qrcode (setup.py): started\n",
      "  Building wheel for qrcode (setup.py): finished with status 'done'\n",
      "  Created wheel for qrcode: filename=qrcode-7.3-py3-none-any.whl size=40224 sha256=3149a746f113d521b8c35d42948c0513e8afdc73e85387b611c883504a4d6f70\n",
      "  Stored in directory: c:\\users\\prashik\\appdata\\local\\pip\\cache\\wheels\\94\\7d\\9f\\316e6791be6447d213fff86442850ccb2849d9af00796e0311\n",
      "Successfully built qrcode\n",
      "Installing collected packages: qrcode\n",
      "Successfully installed qrcode-7.3\n"
     ]
    }
   ],
   "source": [
    "!pip3 install qrcode"
   ]
  },
  {
   "cell_type": "code",
   "execution_count": 5,
   "id": "bdee603b",
   "metadata": {},
   "outputs": [
    {
     "name": "stdout",
     "output_type": "stream",
     "text": [
      "QR code made by system... please check respective folder\n"
     ]
    }
   ],
   "source": [
    "import qrcode\n",
    "img = qrcode.make(\"https://github.com/prashik-999\")\n",
    "img.save(\"mygithubQR.jpg\")\n",
    "print(\"QR code made by system... please check respective folder\")"
   ]
  },
  {
   "cell_type": "code",
   "execution_count": null,
   "id": "de11e296",
   "metadata": {},
   "outputs": [],
   "source": []
  }
 ],
 "metadata": {
  "kernelspec": {
   "display_name": "Python 3",
   "language": "python",
   "name": "python3"
  },
  "language_info": {
   "codemirror_mode": {
    "name": "ipython",
    "version": 3
   },
   "file_extension": ".py",
   "mimetype": "text/x-python",
   "name": "python",
   "nbconvert_exporter": "python",
   "pygments_lexer": "ipython3",
   "version": "3.8.8"
  }
 },
 "nbformat": 4,
 "nbformat_minor": 5
}
